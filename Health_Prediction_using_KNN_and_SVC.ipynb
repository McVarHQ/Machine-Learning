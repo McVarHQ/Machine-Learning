{
  "nbformat": 4,
  "nbformat_minor": 0,
  "metadata": {
    "colab": {
      "provenance": []
    },
    "kernelspec": {
      "name": "python3",
      "display_name": "Python 3"
    },
    "language_info": {
      "name": "python"
    }
  },
  "cells": [
    {
      "cell_type": "markdown",
      "source": [
        "# **KNN and SVC**"
      ],
      "metadata": {
        "id": "bQaaGUcy9l21"
      }
    },
    {
      "cell_type": "markdown",
      "source": [
        "Import the necessary packages /modules and read the data set"
      ],
      "metadata": {
        "id": "64J0Z97BtXyc"
      }
    },
    {
      "cell_type": "code",
      "execution_count": null,
      "metadata": {
        "id": "CV5DpPhPsR59"
      },
      "outputs": [],
      "source": [
        "import pandas as pd\n",
        "import numpy as np\n",
        "import matplotlib as plt\n",
        "import seaborn as sns\n",
        "\n",
        "from sklearn.neighbors import KNeighborsClassifier\n",
        "from sklearn.preprocessing import LabelEncoder, MinMaxScaler, StandardScaler, RobustScaler\n",
        "from sklearn.model_selection import train_test_split, GridSearchCV\n",
        "from sklearn.metrics import accuracy_score, classification_report, confusion_matrix\n",
        "from sklearn.pipeline import Pipeline\n",
        "\n",
        "from sklearn.svm import SVC\n",
        "\n",
        "%matplotlib inline"
      ]
    },
    {
      "cell_type": "code",
      "source": [
        "df=pd.read_csv('/content/dataset4')"
      ],
      "metadata": {
        "id": "d5E3LEUqtadF"
      },
      "execution_count": null,
      "outputs": []
    },
    {
      "cell_type": "code",
      "source": [
        "df.head(10)"
      ],
      "metadata": {
        "colab": {
          "base_uri": "https://localhost:8080/",
          "height": 647
        },
        "id": "f9FCGPoNuwiV",
        "outputId": "27a3a49e-a5b2-4a91-aba7-d219981a099e"
      },
      "execution_count": null,
      "outputs": [
        {
          "output_type": "execute_result",
          "data": {
            "text/plain": [
              "   Unnamed: 0 BirthAsphyxia HypDistrib HypoxiaInO2     CO2  ChestXray  \\\n",
              "0           4            no      Equal    Moderate  Normal        NaN   \n",
              "1          28            no      Equal      Severe  Normal     Normal   \n",
              "2          19            no      Equal        Mild  Normal  Oligaemic   \n",
              "3           3            no      Equal    Moderate  Normal        NaN   \n",
              "4           0            no      Equal    Moderate  Normal     Normal   \n",
              "5          18            no      Equal    Moderate  Normal  Asy/Patch   \n",
              "6          12            no      Equal      Severe  Normal  Grd_Glass   \n",
              "7          24            no      Equal      Severe  Normal  Asy/Patch   \n",
              "8          19            no      Equal      Severe    High        NaN   \n",
              "9          22            no      Equal      Severe  Normal  Plethoric   \n",
              "\n",
              "  Grunting LVHreport LowerBodyO2   RUQO2  ...  XrayReport Disease  \\\n",
              "0       no       yes      05-Dec  05-Dec  ...   Oligaemic  Fallot   \n",
              "1       no        no          <5      <5  ...      Normal     TGA   \n",
              "2       no        no      05-Dec      <5  ...      Normal   PAIVS   \n",
              "3       no        no          <5      <5  ...   Grd_Glass     TGA   \n",
              "4       no       yes      05-Dec  05-Dec  ...  Asy/Patchy     TGA   \n",
              "5       no        no          <5  05-Dec  ...   Oligaemic   PAIVS   \n",
              "6       no        no      05-Dec      <5  ...   Grd_Glass  Fallot   \n",
              "7       no        no         12+      <5  ...   Oligaemic     TGA   \n",
              "8       no        no          <5      <5  ...      Normal     TGA   \n",
              "9       no        no          <5      <5  ...   Grd_Glass     TGA   \n",
              "\n",
              "  GruntingReport        Age LVH  DuctFlow CardiacMixing LungParench LungFlow  \\\n",
              "0             no  4-10_days  no      None          Mild         NaN      Low   \n",
              "1             no   0-3_days  no      None      Complete      Normal      Low   \n",
              "2             no   0-3_days  no      None      Complete      Normal      Low   \n",
              "3             no   0-3_days  no      None      Complete      Normal      Low   \n",
              "4             no   0-3_days  no      None      Complete      Normal   Normal   \n",
              "5             no   0-3_days  no  Lt_to_Rt      Complete    Abnormal      Low   \n",
              "6             no   0-3_days  no      None       Transp.      Normal      Low   \n",
              "7             no   0-3_days  no  Lt_to_Rt      Complete      Normal      Low   \n",
              "8            yes   0-3_days  no      None      Complete      Normal      Low   \n",
              "9             no   0-3_days  no      None      Complete      Normal      Low   \n",
              "\n",
              "  Sick  \n",
              "0  yes  \n",
              "1  yes  \n",
              "2  yes  \n",
              "3  yes  \n",
              "4  yes  \n",
              "5  yes  \n",
              "6  yes  \n",
              "7  yes  \n",
              "8  yes  \n",
              "9   no  \n",
              "\n",
              "[10 rows x 21 columns]"
            ],
            "text/html": [
              "\n",
              "\n",
              "  <div id=\"df-14580088-09c1-4d35-a1f5-a4742363ba97\">\n",
              "    <div class=\"colab-df-container\">\n",
              "      <div>\n",
              "<style scoped>\n",
              "    .dataframe tbody tr th:only-of-type {\n",
              "        vertical-align: middle;\n",
              "    }\n",
              "\n",
              "    .dataframe tbody tr th {\n",
              "        vertical-align: top;\n",
              "    }\n",
              "\n",
              "    .dataframe thead th {\n",
              "        text-align: right;\n",
              "    }\n",
              "</style>\n",
              "<table border=\"1\" class=\"dataframe\">\n",
              "  <thead>\n",
              "    <tr style=\"text-align: right;\">\n",
              "      <th></th>\n",
              "      <th>Unnamed: 0</th>\n",
              "      <th>BirthAsphyxia</th>\n",
              "      <th>HypDistrib</th>\n",
              "      <th>HypoxiaInO2</th>\n",
              "      <th>CO2</th>\n",
              "      <th>ChestXray</th>\n",
              "      <th>Grunting</th>\n",
              "      <th>LVHreport</th>\n",
              "      <th>LowerBodyO2</th>\n",
              "      <th>RUQO2</th>\n",
              "      <th>...</th>\n",
              "      <th>XrayReport</th>\n",
              "      <th>Disease</th>\n",
              "      <th>GruntingReport</th>\n",
              "      <th>Age</th>\n",
              "      <th>LVH</th>\n",
              "      <th>DuctFlow</th>\n",
              "      <th>CardiacMixing</th>\n",
              "      <th>LungParench</th>\n",
              "      <th>LungFlow</th>\n",
              "      <th>Sick</th>\n",
              "    </tr>\n",
              "  </thead>\n",
              "  <tbody>\n",
              "    <tr>\n",
              "      <th>0</th>\n",
              "      <td>4</td>\n",
              "      <td>no</td>\n",
              "      <td>Equal</td>\n",
              "      <td>Moderate</td>\n",
              "      <td>Normal</td>\n",
              "      <td>NaN</td>\n",
              "      <td>no</td>\n",
              "      <td>yes</td>\n",
              "      <td>05-Dec</td>\n",
              "      <td>05-Dec</td>\n",
              "      <td>...</td>\n",
              "      <td>Oligaemic</td>\n",
              "      <td>Fallot</td>\n",
              "      <td>no</td>\n",
              "      <td>4-10_days</td>\n",
              "      <td>no</td>\n",
              "      <td>None</td>\n",
              "      <td>Mild</td>\n",
              "      <td>NaN</td>\n",
              "      <td>Low</td>\n",
              "      <td>yes</td>\n",
              "    </tr>\n",
              "    <tr>\n",
              "      <th>1</th>\n",
              "      <td>28</td>\n",
              "      <td>no</td>\n",
              "      <td>Equal</td>\n",
              "      <td>Severe</td>\n",
              "      <td>Normal</td>\n",
              "      <td>Normal</td>\n",
              "      <td>no</td>\n",
              "      <td>no</td>\n",
              "      <td>&lt;5</td>\n",
              "      <td>&lt;5</td>\n",
              "      <td>...</td>\n",
              "      <td>Normal</td>\n",
              "      <td>TGA</td>\n",
              "      <td>no</td>\n",
              "      <td>0-3_days</td>\n",
              "      <td>no</td>\n",
              "      <td>None</td>\n",
              "      <td>Complete</td>\n",
              "      <td>Normal</td>\n",
              "      <td>Low</td>\n",
              "      <td>yes</td>\n",
              "    </tr>\n",
              "    <tr>\n",
              "      <th>2</th>\n",
              "      <td>19</td>\n",
              "      <td>no</td>\n",
              "      <td>Equal</td>\n",
              "      <td>Mild</td>\n",
              "      <td>Normal</td>\n",
              "      <td>Oligaemic</td>\n",
              "      <td>no</td>\n",
              "      <td>no</td>\n",
              "      <td>05-Dec</td>\n",
              "      <td>&lt;5</td>\n",
              "      <td>...</td>\n",
              "      <td>Normal</td>\n",
              "      <td>PAIVS</td>\n",
              "      <td>no</td>\n",
              "      <td>0-3_days</td>\n",
              "      <td>no</td>\n",
              "      <td>None</td>\n",
              "      <td>Complete</td>\n",
              "      <td>Normal</td>\n",
              "      <td>Low</td>\n",
              "      <td>yes</td>\n",
              "    </tr>\n",
              "    <tr>\n",
              "      <th>3</th>\n",
              "      <td>3</td>\n",
              "      <td>no</td>\n",
              "      <td>Equal</td>\n",
              "      <td>Moderate</td>\n",
              "      <td>Normal</td>\n",
              "      <td>NaN</td>\n",
              "      <td>no</td>\n",
              "      <td>no</td>\n",
              "      <td>&lt;5</td>\n",
              "      <td>&lt;5</td>\n",
              "      <td>...</td>\n",
              "      <td>Grd_Glass</td>\n",
              "      <td>TGA</td>\n",
              "      <td>no</td>\n",
              "      <td>0-3_days</td>\n",
              "      <td>no</td>\n",
              "      <td>None</td>\n",
              "      <td>Complete</td>\n",
              "      <td>Normal</td>\n",
              "      <td>Low</td>\n",
              "      <td>yes</td>\n",
              "    </tr>\n",
              "    <tr>\n",
              "      <th>4</th>\n",
              "      <td>0</td>\n",
              "      <td>no</td>\n",
              "      <td>Equal</td>\n",
              "      <td>Moderate</td>\n",
              "      <td>Normal</td>\n",
              "      <td>Normal</td>\n",
              "      <td>no</td>\n",
              "      <td>yes</td>\n",
              "      <td>05-Dec</td>\n",
              "      <td>05-Dec</td>\n",
              "      <td>...</td>\n",
              "      <td>Asy/Patchy</td>\n",
              "      <td>TGA</td>\n",
              "      <td>no</td>\n",
              "      <td>0-3_days</td>\n",
              "      <td>no</td>\n",
              "      <td>None</td>\n",
              "      <td>Complete</td>\n",
              "      <td>Normal</td>\n",
              "      <td>Normal</td>\n",
              "      <td>yes</td>\n",
              "    </tr>\n",
              "    <tr>\n",
              "      <th>5</th>\n",
              "      <td>18</td>\n",
              "      <td>no</td>\n",
              "      <td>Equal</td>\n",
              "      <td>Moderate</td>\n",
              "      <td>Normal</td>\n",
              "      <td>Asy/Patch</td>\n",
              "      <td>no</td>\n",
              "      <td>no</td>\n",
              "      <td>&lt;5</td>\n",
              "      <td>05-Dec</td>\n",
              "      <td>...</td>\n",
              "      <td>Oligaemic</td>\n",
              "      <td>PAIVS</td>\n",
              "      <td>no</td>\n",
              "      <td>0-3_days</td>\n",
              "      <td>no</td>\n",
              "      <td>Lt_to_Rt</td>\n",
              "      <td>Complete</td>\n",
              "      <td>Abnormal</td>\n",
              "      <td>Low</td>\n",
              "      <td>yes</td>\n",
              "    </tr>\n",
              "    <tr>\n",
              "      <th>6</th>\n",
              "      <td>12</td>\n",
              "      <td>no</td>\n",
              "      <td>Equal</td>\n",
              "      <td>Severe</td>\n",
              "      <td>Normal</td>\n",
              "      <td>Grd_Glass</td>\n",
              "      <td>no</td>\n",
              "      <td>no</td>\n",
              "      <td>05-Dec</td>\n",
              "      <td>&lt;5</td>\n",
              "      <td>...</td>\n",
              "      <td>Grd_Glass</td>\n",
              "      <td>Fallot</td>\n",
              "      <td>no</td>\n",
              "      <td>0-3_days</td>\n",
              "      <td>no</td>\n",
              "      <td>None</td>\n",
              "      <td>Transp.</td>\n",
              "      <td>Normal</td>\n",
              "      <td>Low</td>\n",
              "      <td>yes</td>\n",
              "    </tr>\n",
              "    <tr>\n",
              "      <th>7</th>\n",
              "      <td>24</td>\n",
              "      <td>no</td>\n",
              "      <td>Equal</td>\n",
              "      <td>Severe</td>\n",
              "      <td>Normal</td>\n",
              "      <td>Asy/Patch</td>\n",
              "      <td>no</td>\n",
              "      <td>no</td>\n",
              "      <td>12+</td>\n",
              "      <td>&lt;5</td>\n",
              "      <td>...</td>\n",
              "      <td>Oligaemic</td>\n",
              "      <td>TGA</td>\n",
              "      <td>no</td>\n",
              "      <td>0-3_days</td>\n",
              "      <td>no</td>\n",
              "      <td>Lt_to_Rt</td>\n",
              "      <td>Complete</td>\n",
              "      <td>Normal</td>\n",
              "      <td>Low</td>\n",
              "      <td>yes</td>\n",
              "    </tr>\n",
              "    <tr>\n",
              "      <th>8</th>\n",
              "      <td>19</td>\n",
              "      <td>no</td>\n",
              "      <td>Equal</td>\n",
              "      <td>Severe</td>\n",
              "      <td>High</td>\n",
              "      <td>NaN</td>\n",
              "      <td>no</td>\n",
              "      <td>no</td>\n",
              "      <td>&lt;5</td>\n",
              "      <td>&lt;5</td>\n",
              "      <td>...</td>\n",
              "      <td>Normal</td>\n",
              "      <td>TGA</td>\n",
              "      <td>yes</td>\n",
              "      <td>0-3_days</td>\n",
              "      <td>no</td>\n",
              "      <td>None</td>\n",
              "      <td>Complete</td>\n",
              "      <td>Normal</td>\n",
              "      <td>Low</td>\n",
              "      <td>yes</td>\n",
              "    </tr>\n",
              "    <tr>\n",
              "      <th>9</th>\n",
              "      <td>22</td>\n",
              "      <td>no</td>\n",
              "      <td>Equal</td>\n",
              "      <td>Severe</td>\n",
              "      <td>Normal</td>\n",
              "      <td>Plethoric</td>\n",
              "      <td>no</td>\n",
              "      <td>no</td>\n",
              "      <td>&lt;5</td>\n",
              "      <td>&lt;5</td>\n",
              "      <td>...</td>\n",
              "      <td>Grd_Glass</td>\n",
              "      <td>TGA</td>\n",
              "      <td>no</td>\n",
              "      <td>0-3_days</td>\n",
              "      <td>no</td>\n",
              "      <td>None</td>\n",
              "      <td>Complete</td>\n",
              "      <td>Normal</td>\n",
              "      <td>Low</td>\n",
              "      <td>no</td>\n",
              "    </tr>\n",
              "  </tbody>\n",
              "</table>\n",
              "<p>10 rows × 21 columns</p>\n",
              "</div>\n",
              "      <button class=\"colab-df-convert\" onclick=\"convertToInteractive('df-14580088-09c1-4d35-a1f5-a4742363ba97')\"\n",
              "              title=\"Convert this dataframe to an interactive table.\"\n",
              "              style=\"display:none;\">\n",
              "\n",
              "  <svg xmlns=\"http://www.w3.org/2000/svg\" height=\"24px\"viewBox=\"0 0 24 24\"\n",
              "       width=\"24px\">\n",
              "    <path d=\"M0 0h24v24H0V0z\" fill=\"none\"/>\n",
              "    <path d=\"M18.56 5.44l.94 2.06.94-2.06 2.06-.94-2.06-.94-.94-2.06-.94 2.06-2.06.94zm-11 1L8.5 8.5l.94-2.06 2.06-.94-2.06-.94L8.5 2.5l-.94 2.06-2.06.94zm10 10l.94 2.06.94-2.06 2.06-.94-2.06-.94-.94-2.06-.94 2.06-2.06.94z\"/><path d=\"M17.41 7.96l-1.37-1.37c-.4-.4-.92-.59-1.43-.59-.52 0-1.04.2-1.43.59L10.3 9.45l-7.72 7.72c-.78.78-.78 2.05 0 2.83L4 21.41c.39.39.9.59 1.41.59.51 0 1.02-.2 1.41-.59l7.78-7.78 2.81-2.81c.8-.78.8-2.07 0-2.86zM5.41 20L4 18.59l7.72-7.72 1.47 1.35L5.41 20z\"/>\n",
              "  </svg>\n",
              "      </button>\n",
              "\n",
              "\n",
              "\n",
              "    <div id=\"df-0ed01c10-8c9f-439f-8203-7bac6b54626b\">\n",
              "      <button class=\"colab-df-quickchart\" onclick=\"quickchart('df-0ed01c10-8c9f-439f-8203-7bac6b54626b')\"\n",
              "              title=\"Suggest charts.\"\n",
              "              style=\"display:none;\">\n",
              "\n",
              "<svg xmlns=\"http://www.w3.org/2000/svg\" height=\"24px\"viewBox=\"0 0 24 24\"\n",
              "     width=\"24px\">\n",
              "    <g>\n",
              "        <path d=\"M19 3H5c-1.1 0-2 .9-2 2v14c0 1.1.9 2 2 2h14c1.1 0 2-.9 2-2V5c0-1.1-.9-2-2-2zM9 17H7v-7h2v7zm4 0h-2V7h2v10zm4 0h-2v-4h2v4z\"/>\n",
              "    </g>\n",
              "</svg>\n",
              "      </button>\n",
              "    </div>\n",
              "\n",
              "<style>\n",
              "  .colab-df-quickchart {\n",
              "    background-color: #E8F0FE;\n",
              "    border: none;\n",
              "    border-radius: 50%;\n",
              "    cursor: pointer;\n",
              "    display: none;\n",
              "    fill: #1967D2;\n",
              "    height: 32px;\n",
              "    padding: 0 0 0 0;\n",
              "    width: 32px;\n",
              "  }\n",
              "\n",
              "  .colab-df-quickchart:hover {\n",
              "    background-color: #E2EBFA;\n",
              "    box-shadow: 0px 1px 2px rgba(60, 64, 67, 0.3), 0px 1px 3px 1px rgba(60, 64, 67, 0.15);\n",
              "    fill: #174EA6;\n",
              "  }\n",
              "\n",
              "  [theme=dark] .colab-df-quickchart {\n",
              "    background-color: #3B4455;\n",
              "    fill: #D2E3FC;\n",
              "  }\n",
              "\n",
              "  [theme=dark] .colab-df-quickchart:hover {\n",
              "    background-color: #434B5C;\n",
              "    box-shadow: 0px 1px 3px 1px rgba(0, 0, 0, 0.15);\n",
              "    filter: drop-shadow(0px 1px 2px rgba(0, 0, 0, 0.3));\n",
              "    fill: #FFFFFF;\n",
              "  }\n",
              "</style>\n",
              "\n",
              "    <script>\n",
              "      async function quickchart(key) {\n",
              "        const containerElement = document.querySelector('#' + key);\n",
              "        const charts = await google.colab.kernel.invokeFunction(\n",
              "            'suggestCharts', [key], {});\n",
              "      }\n",
              "    </script>\n",
              "\n",
              "      <script>\n",
              "\n",
              "function displayQuickchartButton(domScope) {\n",
              "  let quickchartButtonEl =\n",
              "    domScope.querySelector('#df-0ed01c10-8c9f-439f-8203-7bac6b54626b button.colab-df-quickchart');\n",
              "  quickchartButtonEl.style.display =\n",
              "    google.colab.kernel.accessAllowed ? 'block' : 'none';\n",
              "}\n",
              "\n",
              "        displayQuickchartButton(document);\n",
              "      </script>\n",
              "      <style>\n",
              "    .colab-df-container {\n",
              "      display:flex;\n",
              "      flex-wrap:wrap;\n",
              "      gap: 12px;\n",
              "    }\n",
              "\n",
              "    .colab-df-convert {\n",
              "      background-color: #E8F0FE;\n",
              "      border: none;\n",
              "      border-radius: 50%;\n",
              "      cursor: pointer;\n",
              "      display: none;\n",
              "      fill: #1967D2;\n",
              "      height: 32px;\n",
              "      padding: 0 0 0 0;\n",
              "      width: 32px;\n",
              "    }\n",
              "\n",
              "    .colab-df-convert:hover {\n",
              "      background-color: #E2EBFA;\n",
              "      box-shadow: 0px 1px 2px rgba(60, 64, 67, 0.3), 0px 1px 3px 1px rgba(60, 64, 67, 0.15);\n",
              "      fill: #174EA6;\n",
              "    }\n",
              "\n",
              "    [theme=dark] .colab-df-convert {\n",
              "      background-color: #3B4455;\n",
              "      fill: #D2E3FC;\n",
              "    }\n",
              "\n",
              "    [theme=dark] .colab-df-convert:hover {\n",
              "      background-color: #434B5C;\n",
              "      box-shadow: 0px 1px 3px 1px rgba(0, 0, 0, 0.15);\n",
              "      filter: drop-shadow(0px 1px 2px rgba(0, 0, 0, 0.3));\n",
              "      fill: #FFFFFF;\n",
              "    }\n",
              "  </style>\n",
              "\n",
              "      <script>\n",
              "        const buttonEl =\n",
              "          document.querySelector('#df-14580088-09c1-4d35-a1f5-a4742363ba97 button.colab-df-convert');\n",
              "        buttonEl.style.display =\n",
              "          google.colab.kernel.accessAllowed ? 'block' : 'none';\n",
              "\n",
              "        async function convertToInteractive(key) {\n",
              "          const element = document.querySelector('#df-14580088-09c1-4d35-a1f5-a4742363ba97');\n",
              "          const dataTable =\n",
              "            await google.colab.kernel.invokeFunction('convertToInteractive',\n",
              "                                                     [key], {});\n",
              "          if (!dataTable) return;\n",
              "\n",
              "          const docLinkHtml = 'Like what you see? Visit the ' +\n",
              "            '<a target=\"_blank\" href=https://colab.research.google.com/notebooks/data_table.ipynb>data table notebook</a>'\n",
              "            + ' to learn more about interactive tables.';\n",
              "          element.innerHTML = '';\n",
              "          dataTable['output_type'] = 'display_data';\n",
              "          await google.colab.output.renderOutput(dataTable, element);\n",
              "          const docLink = document.createElement('div');\n",
              "          docLink.innerHTML = docLinkHtml;\n",
              "          element.appendChild(docLink);\n",
              "        }\n",
              "      </script>\n",
              "    </div>\n",
              "  </div>\n"
            ]
          },
          "metadata": {},
          "execution_count": 67
        }
      ]
    },
    {
      "cell_type": "code",
      "source": [
        "df.info()"
      ],
      "metadata": {
        "colab": {
          "base_uri": "https://localhost:8080/"
        },
        "id": "8BVGMqQ4tzmB",
        "outputId": "efdb8f31-18c8-4d0f-a3b9-e129594ecf83"
      },
      "execution_count": null,
      "outputs": [
        {
          "output_type": "stream",
          "name": "stdout",
          "text": [
            "<class 'pandas.core.frame.DataFrame'>\n",
            "RangeIndex: 5000 entries, 0 to 4999\n",
            "Data columns (total 21 columns):\n",
            " #   Column          Non-Null Count  Dtype \n",
            "---  ------          --------------  ----- \n",
            " 0   Unnamed: 0      5000 non-null   int64 \n",
            " 1   BirthAsphyxia   5000 non-null   object\n",
            " 2   HypDistrib      5000 non-null   object\n",
            " 3   HypoxiaInO2     5000 non-null   object\n",
            " 4   CO2             5000 non-null   object\n",
            " 5   ChestXray       4654 non-null   object\n",
            " 6   Grunting        5000 non-null   object\n",
            " 7   LVHreport       4677 non-null   object\n",
            " 8   LowerBodyO2     5000 non-null   object\n",
            " 9   RUQO2           5000 non-null   object\n",
            " 10  CO2Report       5000 non-null   object\n",
            " 11  XrayReport      5000 non-null   object\n",
            " 12  Disease         5000 non-null   object\n",
            " 13  GruntingReport  5000 non-null   object\n",
            " 14  Age             5000 non-null   object\n",
            " 15  LVH             5000 non-null   object\n",
            " 16  DuctFlow        5000 non-null   object\n",
            " 17  CardiacMixing   5000 non-null   object\n",
            " 18  LungParench     4255 non-null   object\n",
            " 19  LungFlow        5000 non-null   object\n",
            " 20  Sick            5000 non-null   object\n",
            "dtypes: int64(1), object(20)\n",
            "memory usage: 820.4+ KB\n"
          ]
        }
      ]
    },
    {
      "cell_type": "markdown",
      "source": [
        "# **Part I - Preprocessing**"
      ],
      "metadata": {
        "id": "2CFzUzcOuUnv"
      }
    },
    {
      "cell_type": "markdown",
      "source": [
        "1. Null Values"
      ],
      "metadata": {
        "id": "nkqCesZOvE-B"
      }
    },
    {
      "cell_type": "code",
      "source": [
        "for i in df.columns:\n",
        "  print(i, ' - ', df[i].isna().sum())"
      ],
      "metadata": {
        "colab": {
          "base_uri": "https://localhost:8080/"
        },
        "id": "RZEkEgWCuBq6",
        "outputId": "922bb3a4-5353-4ce2-c57e-8c9cde639563"
      },
      "execution_count": null,
      "outputs": [
        {
          "output_type": "stream",
          "name": "stdout",
          "text": [
            "Unnamed: 0  -  0\n",
            "BirthAsphyxia  -  0\n",
            "HypDistrib  -  0\n",
            "HypoxiaInO2  -  0\n",
            "CO2  -  0\n",
            "ChestXray  -  346\n",
            "Grunting  -  0\n",
            "LVHreport  -  323\n",
            "LowerBodyO2  -  0\n",
            "RUQO2  -  0\n",
            "CO2Report  -  0\n",
            "XrayReport  -  0\n",
            "Disease  -  0\n",
            "GruntingReport  -  0\n",
            "Age  -  0\n",
            "LVH  -  0\n",
            "DuctFlow  -  0\n",
            "CardiacMixing  -  0\n",
            "LungParench  -  745\n",
            "LungFlow  -  0\n",
            "Sick  -  0\n"
          ]
        }
      ]
    },
    {
      "cell_type": "code",
      "source": [
        "#Since all of these are categorical. We use mode\n",
        "df['ChestXray'].fillna(df['ChestXray'].mode()[0], inplace=True)\n",
        "df['LVHreport'].fillna(df['LVHreport'].mode()[0], inplace=True)\n",
        "df['LungParench'].fillna(df['LungParench'].mode()[0], inplace=True)"
      ],
      "metadata": {
        "id": "ZJJkOhvQuboV"
      },
      "execution_count": null,
      "outputs": []
    },
    {
      "cell_type": "code",
      "source": [
        "for i in df.columns:\n",
        "  print(i, ' - ', df[i].isna().sum())"
      ],
      "metadata": {
        "colab": {
          "base_uri": "https://localhost:8080/"
        },
        "id": "I3bY6AZBveUj",
        "outputId": "bbc294f1-2b7b-4b9b-b6a5-9f5dd20e7ebb"
      },
      "execution_count": null,
      "outputs": [
        {
          "output_type": "stream",
          "name": "stdout",
          "text": [
            "Unnamed: 0  -  0\n",
            "BirthAsphyxia  -  0\n",
            "HypDistrib  -  0\n",
            "HypoxiaInO2  -  0\n",
            "CO2  -  0\n",
            "ChestXray  -  0\n",
            "Grunting  -  0\n",
            "LVHreport  -  0\n",
            "LowerBodyO2  -  0\n",
            "RUQO2  -  0\n",
            "CO2Report  -  0\n",
            "XrayReport  -  0\n",
            "Disease  -  0\n",
            "GruntingReport  -  0\n",
            "Age  -  0\n",
            "LVH  -  0\n",
            "DuctFlow  -  0\n",
            "CardiacMixing  -  0\n",
            "LungParench  -  0\n",
            "LungFlow  -  0\n",
            "Sick  -  0\n"
          ]
        }
      ]
    },
    {
      "cell_type": "markdown",
      "source": [
        "2. Normal in ChestXray but fall in sick"
      ],
      "metadata": {
        "id": "s2KeDXnpwS63"
      }
    },
    {
      "cell_type": "code",
      "source": [
        "df2=df[(df['ChestXray'] == 'Normal') & (df['Sick'] == 'yes')]\n",
        "print('Patients who have Normal in ChestXray but fall in sick = ', df2.count()[0])"
      ],
      "metadata": {
        "colab": {
          "base_uri": "https://localhost:8080/"
        },
        "id": "yRlp-xDNwPxU",
        "outputId": "d2fd1e68-45c7-48a0-fafd-e5a84a09503a"
      },
      "execution_count": null,
      "outputs": [
        {
          "output_type": "stream",
          "name": "stdout",
          "text": [
            "Patients who have Normal in ChestXray but fall in sick =  587\n"
          ]
        }
      ]
    },
    {
      "cell_type": "markdown",
      "source": [
        "3. Visualize the relation between LungParench and Disease"
      ],
      "metadata": {
        "id": "As5YWpC6xgK0"
      }
    },
    {
      "cell_type": "code",
      "source": [
        "sns.displot(x='ChestXray', y='Sick', data=df)"
      ],
      "metadata": {
        "colab": {
          "base_uri": "https://localhost:8080/",
          "height": 523
        },
        "id": "UnjOF24By9AK",
        "outputId": "7e6dff1a-c299-4f6b-c263-efeae79d848c"
      },
      "execution_count": null,
      "outputs": [
        {
          "output_type": "execute_result",
          "data": {
            "text/plain": [
              "<seaborn.axisgrid.FacetGrid at 0x7dfd78aefac0>"
            ]
          },
          "metadata": {},
          "execution_count": 73
        },
        {
          "output_type": "display_data",
          "data": {
            "text/plain": [
              "<Figure size 500x500 with 1 Axes>"
            ],
            "image/png": "[encoded data removed]"
          },
          "metadata": {}
        }
      ]
    },
    {
      "cell_type": "markdown",
      "source": [
        "# **Part II - Model Building**"
      ],
      "metadata": {
        "id": "k28hfztE0kKe"
      }
    },
    {
      "cell_type": "markdown",
      "source": [
        "1. Problem Statement\n",
        "\n",
        "\n",
        "\n",
        ">> To predict whether the patient is sick or not\n",
        "\n"
      ],
      "metadata": {
        "id": "IQGjMHWr12sg"
      }
    },
    {
      "cell_type": "markdown",
      "source": [
        "2. Build Model"
      ],
      "metadata": {
        "id": "1hz6wqPz2HXL"
      }
    },
    {
      "cell_type": "code",
      "source": [
        "#drop useless unamed column\n",
        "df.drop('Unnamed: 0', axis=1, inplace=True)"
      ],
      "metadata": {
        "id": "6Q-brkgG23Ec"
      },
      "execution_count": null,
      "outputs": []
    },
    {
      "cell_type": "code",
      "source": [
        "# Convert to numeric data\n",
        "le = LabelEncoder()\n",
        "for i in df.columns:\n",
        "  df[i] = le.fit_transform(df[i])"
      ],
      "metadata": {
        "id": "aoVGcZ6lzeYI"
      },
      "execution_count": null,
      "outputs": []
    },
    {
      "cell_type": "code",
      "source": [
        "#Split data\n",
        "X = df.drop('Sick', axis=1).copy()\n",
        "y = df['Sick'].copy()"
      ],
      "metadata": {
        "id": "X9WjobY33tgF"
      },
      "execution_count": null,
      "outputs": []
    },
    {
      "cell_type": "code",
      "source": [
        "#train model\n",
        "X_train, X_test, y_train, y_test = train_test_split(X, y, train_size=0.2, shuffle=True, random_state=1)\n",
        "\n",
        "pipeline = Pipeline([\n",
        "    ('min_max_scaler', MinMaxScaler()),\n",
        "    ('std_scaler', StandardScaler()),\n",
        "    ('robust_scaler', RobustScaler())\n",
        "])\n",
        "\n",
        "X_train = pipeline.fit_transform(X_train)\n",
        "X_test = pipeline.transform(X_test)"
      ],
      "metadata": {
        "id": "6Z79eTsj3n9h"
      },
      "execution_count": null,
      "outputs": []
    },
    {
      "cell_type": "markdown",
      "source": [
        "Metrics"
      ],
      "metadata": {
        "id": "8jvmtU0h4HXT"
      }
    },
    {
      "cell_type": "code",
      "source": [
        "knn=KNeighborsClassifier(n_neighbors=3)\n",
        "knn.fit(X_train, y_train)"
      ],
      "metadata": {
        "colab": {
          "base_uri": "https://localhost:8080/",
          "height": 74
        },
        "id": "5OxVvePH8S6W",
        "outputId": "2640954f-2a39-4b67-c05a-a8a9b9862a58"
      },
      "execution_count": null,
      "outputs": [
        {
          "output_type": "execute_result",
          "data": {
            "text/plain": [
              "KNeighborsClassifier(n_neighbors=3)"
            ],
            "text/html": [
              "<style>#sk-container-id-5 {color: black;background-color: white;}#sk-container-id-5 pre{padding: 0;}#sk-container-id-5 div.sk-toggleable {background-color: white;}#sk-container-id-5 label.sk-toggleable__label {cursor: pointer;display: block;width: 100%;margin-bottom: 0;padding: 0.3em;box-sizing: border-box;text-align: center;}#sk-container-id-5 label.sk-toggleable__label-arrow:before {content: \"▸\";float: left;margin-right: 0.25em;color: #696969;}#sk-container-id-5 label.sk-toggleable__label-arrow:hover:before {color: black;}#sk-container-id-5 div.sk-estimator:hover label.sk-toggleable__label-arrow:before {color: black;}#sk-container-id-5 div.sk-toggleable__content {max-height: 0;max-width: 0;overflow: hidden;text-align: left;background-color: #f0f8ff;}#sk-container-id-5 div.sk-toggleable__content pre {margin: 0.2em;color: black;border-radius: 0.25em;background-color: #f0f8ff;}#sk-container-id-5 input.sk-toggleable__control:checked~div.sk-toggleable__content {max-height: 200px;max-width: 100%;overflow: auto;}#sk-container-id-5 input.sk-toggleable__control:checked~label.sk-toggleable__label-arrow:before {content: \"▾\";}#sk-container-id-5 div.sk-estimator input.sk-toggleable__control:checked~label.sk-toggleable__label {background-color: #d4ebff;}#sk-container-id-5 div.sk-label input.sk-toggleable__control:checked~label.sk-toggleable__label {background-color: #d4ebff;}#sk-container-id-5 input.sk-hidden--visually {border: 0;clip: rect(1px 1px 1px 1px);clip: rect(1px, 1px, 1px, 1px);height: 1px;margin: -1px;overflow: hidden;padding: 0;position: absolute;width: 1px;}#sk-container-id-5 div.sk-estimator {font-family: monospace;background-color: #f0f8ff;border: 1px dotted black;border-radius: 0.25em;box-sizing: border-box;margin-bottom: 0.5em;}#sk-container-id-5 div.sk-estimator:hover {background-color: #d4ebff;}#sk-container-id-5 div.sk-parallel-item::after {content: \"\";width: 100%;border-bottom: 1px solid gray;flex-grow: 1;}#sk-container-id-5 div.sk-label:hover label.sk-toggleable__label {background-color: #d4ebff;}#sk-container-id-5 div.sk-serial::before {content: \"\";position: absolute;border-left: 1px solid gray;box-sizing: border-box;top: 0;bottom: 0;left: 50%;z-index: 0;}#sk-container-id-5 div.sk-serial {display: flex;flex-direction: column;align-items: center;background-color: white;padding-right: 0.2em;padding-left: 0.2em;position: relative;}#sk-container-id-5 div.sk-item {position: relative;z-index: 1;}#sk-container-id-5 div.sk-parallel {display: flex;align-items: stretch;justify-content: center;background-color: white;position: relative;}#sk-container-id-5 div.sk-item::before, #sk-container-id-5 div.sk-parallel-item::before {content: \"\";position: absolute;border-left: 1px solid gray;box-sizing: border-box;top: 0;bottom: 0;left: 50%;z-index: -1;}#sk-container-id-5 div.sk-parallel-item {display: flex;flex-direction: column;z-index: 1;position: relative;background-color: white;}#sk-container-id-5 div.sk-parallel-item:first-child::after {align-self: flex-end;width: 50%;}#sk-container-id-5 div.sk-parallel-item:last-child::after {align-self: flex-start;width: 50%;}#sk-container-id-5 div.sk-parallel-item:only-child::after {width: 0;}#sk-container-id-5 div.sk-dashed-wrapped {border: 1px dashed gray;margin: 0 0.4em 0.5em 0.4em;box-sizing: border-box;padding-bottom: 0.4em;background-color: white;}#sk-container-id-5 div.sk-label label {font-family: monospace;font-weight: bold;display: inline-block;line-height: 1.2em;}#sk-container-id-5 div.sk-label-container {text-align: center;}#sk-container-id-5 div.sk-container {/* jupyter's `normalize.less` sets `[hidden] { display: none; }` but bootstrap.min.css set `[hidden] { display: none !important; }` so we also need the `!important` here to be able to override the default hidden behavior on the sphinx rendered scikit-learn.org. See: https://github.com/scikit-learn/scikit-learn/issues/21755 */display: inline-block !important;position: relative;}#sk-container-id-5 div.sk-text-repr-fallback {display: none;}</style><div id=\"sk-container-id-5\" class=\"sk-top-container\"><div class=\"sk-text-repr-fallback\"><pre>KNeighborsClassifier(n_neighbors=3)</pre><b>In a Jupyter environment, please rerun this cell to show the HTML representation or trust the notebook. <br />On GitHub, the HTML representation is unable to render, please try loading this page with nbviewer.org.</b></div><div class=\"sk-container\" hidden><div class=\"sk-item\"><div class=\"sk-estimator sk-toggleable\"><input class=\"sk-toggleable__control sk-hidden--visually\" id=\"sk-estimator-id-5\" type=\"checkbox\" checked><label for=\"sk-estimator-id-5\" class=\"sk-toggleable__label sk-toggleable__label-arrow\">KNeighborsClassifier</label><div class=\"sk-toggleable__content\"><pre>KNeighborsClassifier(n_neighbors=3)</pre></div></div></div></div></div>"
            ]
          },
          "metadata": {},
          "execution_count": 98
        }
      ]
    },
    {
      "cell_type": "code",
      "source": [
        "y_pred = knn.predict(X_test)\n",
        "knn_accuracy = accuracy_score(y_test, y_pred)\n",
        "print('Accuracy:', knn_accuracy)"
      ],
      "metadata": {
        "colab": {
          "base_uri": "https://localhost:8080/"
        },
        "id": "pkSIC3X935nL",
        "outputId": "07d0de8d-8756-4852-8697-53dedebad34e"
      },
      "execution_count": null,
      "outputs": [
        {
          "output_type": "stream",
          "name": "stdout",
          "text": [
            "Accuracy: 0.594\n"
          ]
        }
      ]
    },
    {
      "cell_type": "markdown",
      "source": [
        "# **Part III - Model Comparison**"
      ],
      "metadata": {
        "id": "DNH5smhN4SMD"
      }
    },
    {
      "cell_type": "code",
      "source": [
        "def print_score(clf, X_train, y_train, X_test, y_test):\n",
        "  pred = clf.predict(X_test)\n",
        "  clf_report = pd.DataFrame(classification_report(y_test, pred, output_dict=True))\n",
        "  print(f\"Accuracy Score: {accuracy_score(y_test, pred) * 100:.2f}%\")\n",
        "  print(f\"CLASSIFICATION REPORT:\\n{clf_report}\")\n",
        "  print(f\"Confusion Matrix: \\n {confusion_matrix(y_test, pred)}\\n\")"
      ],
      "metadata": {
        "id": "ftgfItdb6zC7"
      },
      "execution_count": null,
      "outputs": []
    },
    {
      "cell_type": "code",
      "source": [
        "svc = SVC(kernel='rbf', gamma=0.5, C=0.1)\n",
        "svc.fit(X_train, y_train)"
      ],
      "metadata": {
        "colab": {
          "base_uri": "https://localhost:8080/",
          "height": 74
        },
        "id": "ZIs6M8mZ4NrL",
        "outputId": "16c47423-0fb9-4cc6-a01d-d806eb37311c"
      },
      "execution_count": null,
      "outputs": [
        {
          "output_type": "execute_result",
          "data": {
            "text/plain": [
              "SVC(C=0.1, gamma=0.5)"
            ],
            "text/html": [
              "<style>#sk-container-id-7 {color: black;background-color: white;}#sk-container-id-7 pre{padding: 0;}#sk-container-id-7 div.sk-toggleable {background-color: white;}#sk-container-id-7 label.sk-toggleable__label {cursor: pointer;display: block;width: 100%;margin-bottom: 0;padding: 0.3em;box-sizing: border-box;text-align: center;}#sk-container-id-7 label.sk-toggleable__label-arrow:before {content: \"▸\";float: left;margin-right: 0.25em;color: #696969;}#sk-container-id-7 label.sk-toggleable__label-arrow:hover:before {color: black;}#sk-container-id-7 div.sk-estimator:hover label.sk-toggleable__label-arrow:before {color: black;}#sk-container-id-7 div.sk-toggleable__content {max-height: 0;max-width: 0;overflow: hidden;text-align: left;background-color: #f0f8ff;}#sk-container-id-7 div.sk-toggleable__content pre {margin: 0.2em;color: black;border-radius: 0.25em;background-color: #f0f8ff;}#sk-container-id-7 input.sk-toggleable__control:checked~div.sk-toggleable__content {max-height: 200px;max-width: 100%;overflow: auto;}#sk-container-id-7 input.sk-toggleable__control:checked~label.sk-toggleable__label-arrow:before {content: \"▾\";}#sk-container-id-7 div.sk-estimator input.sk-toggleable__control:checked~label.sk-toggleable__label {background-color: #d4ebff;}#sk-container-id-7 div.sk-label input.sk-toggleable__control:checked~label.sk-toggleable__label {background-color: #d4ebff;}#sk-container-id-7 input.sk-hidden--visually {border: 0;clip: rect(1px 1px 1px 1px);clip: rect(1px, 1px, 1px, 1px);height: 1px;margin: -1px;overflow: hidden;padding: 0;position: absolute;width: 1px;}#sk-container-id-7 div.sk-estimator {font-family: monospace;background-color: #f0f8ff;border: 1px dotted black;border-radius: 0.25em;box-sizing: border-box;margin-bottom: 0.5em;}#sk-container-id-7 div.sk-estimator:hover {background-color: #d4ebff;}#sk-container-id-7 div.sk-parallel-item::after {content: \"\";width: 100%;border-bottom: 1px solid gray;flex-grow: 1;}#sk-container-id-7 div.sk-label:hover label.sk-toggleable__label {background-color: #d4ebff;}#sk-container-id-7 div.sk-serial::before {content: \"\";position: absolute;border-left: 1px solid gray;box-sizing: border-box;top: 0;bottom: 0;left: 50%;z-index: 0;}#sk-container-id-7 div.sk-serial {display: flex;flex-direction: column;align-items: center;background-color: white;padding-right: 0.2em;padding-left: 0.2em;position: relative;}#sk-container-id-7 div.sk-item {position: relative;z-index: 1;}#sk-container-id-7 div.sk-parallel {display: flex;align-items: stretch;justify-content: center;background-color: white;position: relative;}#sk-container-id-7 div.sk-item::before, #sk-container-id-7 div.sk-parallel-item::before {content: \"\";position: absolute;border-left: 1px solid gray;box-sizing: border-box;top: 0;bottom: 0;left: 50%;z-index: -1;}#sk-container-id-7 div.sk-parallel-item {display: flex;flex-direction: column;z-index: 1;position: relative;background-color: white;}#sk-container-id-7 div.sk-parallel-item:first-child::after {align-self: flex-end;width: 50%;}#sk-container-id-7 div.sk-parallel-item:last-child::after {align-self: flex-start;width: 50%;}#sk-container-id-7 div.sk-parallel-item:only-child::after {width: 0;}#sk-container-id-7 div.sk-dashed-wrapped {border: 1px dashed gray;margin: 0 0.4em 0.5em 0.4em;box-sizing: border-box;padding-bottom: 0.4em;background-color: white;}#sk-container-id-7 div.sk-label label {font-family: monospace;font-weight: bold;display: inline-block;line-height: 1.2em;}#sk-container-id-7 div.sk-label-container {text-align: center;}#sk-container-id-7 div.sk-container {/* jupyter's `normalize.less` sets `[hidden] { display: none; }` but bootstrap.min.css set `[hidden] { display: none !important; }` so we also need the `!important` here to be able to override the default hidden behavior on the sphinx rendered scikit-learn.org. See: https://github.com/scikit-learn/scikit-learn/issues/21755 */display: inline-block !important;position: relative;}#sk-container-id-7 div.sk-text-repr-fallback {display: none;}</style><div id=\"sk-container-id-7\" class=\"sk-top-container\"><div class=\"sk-text-repr-fallback\"><pre>SVC(C=0.1, gamma=0.5)</pre><b>In a Jupyter environment, please rerun this cell to show the HTML representation or trust the notebook. <br />On GitHub, the HTML representation is unable to render, please try loading this page with nbviewer.org.</b></div><div class=\"sk-container\" hidden><div class=\"sk-item\"><div class=\"sk-estimator sk-toggleable\"><input class=\"sk-toggleable__control sk-hidden--visually\" id=\"sk-estimator-id-7\" type=\"checkbox\" checked><label for=\"sk-estimator-id-7\" class=\"sk-toggleable__label sk-toggleable__label-arrow\">SVC</label><div class=\"sk-toggleable__content\"><pre>SVC(C=0.1, gamma=0.5)</pre></div></div></div></div></div>"
            ]
          },
          "metadata": {},
          "execution_count": 102
        }
      ]
    },
    {
      "cell_type": "code",
      "source": [
        "y_pred = svc.predict(X_test)\n",
        "svc_accuracy = accuracy_score(y_test, y_pred)\n",
        "print('Accuracy:', svc_accuracy)"
      ],
      "metadata": {
        "colab": {
          "base_uri": "https://localhost:8080/"
        },
        "id": "2Q2Rz23Q5n6N",
        "outputId": "bf499cb1-55f0-48f5-d940-b465f8af64e3"
      },
      "execution_count": null,
      "outputs": [
        {
          "output_type": "stream",
          "name": "stdout",
          "text": [
            "Accuracy: 0.66425\n"
          ]
        }
      ]
    },
    {
      "cell_type": "code",
      "source": [
        "print_score(knn, X_train, y_train, X_test, y_test)\n",
        "print_score(svc, X_train, y_train, X_test, y_test)"
      ],
      "metadata": {
        "colab": {
          "base_uri": "https://localhost:8080/"
        },
        "id": "B2JMYUsq5_mW",
        "outputId": "b4090854-a1c0-45a1-e08f-f21d609964ab"
      },
      "execution_count": null,
      "outputs": [
        {
          "output_type": "stream",
          "name": "stdout",
          "text": [
            "Accuracy Score: 59.40%\n",
            "CLASSIFICATION REPORT:\n",
            "                     0            1  accuracy    macro avg  weighted avg\n",
            "precision     0.359640     0.672224     0.594     0.515932      0.567274\n",
            "recall        0.268057     0.758750     0.594     0.513404      0.594000\n",
            "f1-score      0.307167     0.712871     0.594     0.510019      0.576656\n",
            "support    1343.000000  2657.000000     0.594  4000.000000   4000.000000\n",
            "Confusion Matrix: \n",
            " [[ 360  983]\n",
            " [ 641 2016]]\n",
            "\n",
            "Accuracy Score: 66.42%\n",
            "CLASSIFICATION REPORT:\n",
            "                0            1  accuracy    macro avg  weighted avg\n",
            "precision     0.0     0.664250   0.66425     0.332125      0.441228\n",
            "recall        0.0     1.000000   0.66425     0.500000      0.664250\n",
            "f1-score      0.0     0.798257   0.66425     0.399129      0.530243\n",
            "support    1343.0  2657.000000   0.66425  4000.000000   4000.000000\n",
            "Confusion Matrix: \n",
            " [[   0 1343]\n",
            " [   0 2657]]\n",
            "\n"
          ]
        },
        {
          "output_type": "stream",
          "name": "stderr",
          "text": [
            "/usr/local/lib/python3.10/dist-packages/sklearn/metrics/_classification.py:1344: UndefinedMetricWarning: Precision and F-score are ill-defined and being set to 0.0 in labels with no predicted samples. Use `zero_division` parameter to control this behavior.\n",
            "  _warn_prf(average, modifier, msg_start, len(result))\n",
            "/usr/local/lib/python3.10/dist-packages/sklearn/metrics/_classification.py:1344: UndefinedMetricWarning: Precision and F-score are ill-defined and being set to 0.0 in labels with no predicted samples. Use `zero_division` parameter to control this behavior.\n",
            "  _warn_prf(average, modifier, msg_start, len(result))\n",
            "/usr/local/lib/python3.10/dist-packages/sklearn/metrics/_classification.py:1344: UndefinedMetricWarning: Precision and F-score are ill-defined and being set to 0.0 in labels with no predicted samples. Use `zero_division` parameter to control this behavior.\n",
            "  _warn_prf(average, modifier, msg_start, len(result))\n"
          ]
        }
      ]
    },
    {
      "cell_type": "markdown",
      "source": [
        "# **Part - IV The better model**\n",
        "## **Judging by the metrics it is SVC with radial kernel**"
      ],
      "metadata": {
        "id": "uG06p9729F6F"
      }
    },
    {
      "cell_type": "code",
      "source": [],
      "metadata": {
        "id": "_RGZ4qkz81oE"
      },
      "execution_count": null,
      "outputs": []
    }
  ]
}